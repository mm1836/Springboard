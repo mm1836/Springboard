{
 "cells": [
  {
   "cell_type": "markdown",
   "metadata": {},
   "source": [
    "# What is the True Normal Human Body Temperature? \n",
    "\n",
    "#### Background\n",
    "\n",
    "The mean normal body temperature was held to be 37$^{\\circ}$C or 98.6$^{\\circ}$F for more than 120 years since it was first conceptualized and reported by Carl Wunderlich in a famous 1868 book. But, is this value statistically correct?"
   ]
  },
  {
   "cell_type": "markdown",
   "metadata": {},
   "source": [
    "<h3>Exercises</h3>\n",
    "\n",
    "<p>In this exercise, you will analyze a dataset of human body temperatures and employ the concepts of hypothesis testing, confidence intervals, and statistical significance.</p>\n",
    "\n",
    "<p>Answer the following questions <b>in this notebook below and submit to your Github account</b>.</p> \n",
    "\n",
    "<ol>\n",
    "<li>  Is the distribution of body temperatures normal? \n",
    "    <ul>\n",
    "    <li> Although this is not a requirement for the Central Limit Theorem to hold (read the introduction on Wikipedia's page about the CLT carefully: https://en.wikipedia.org/wiki/Central_limit_theorem), it gives us some peace of mind that the population may also be normally distributed if we assume that this sample is representative of the population.\n",
    "    <li> Think about the way you're going to check for the normality of the distribution. Graphical methods are usually used first, but there are also other ways: https://en.wikipedia.org/wiki/Normality_test\n",
    "    </ul>\n",
    "<li>  Is the sample size large? Are the observations independent?\n",
    "    <ul>\n",
    "    <li> Remember that this is a condition for the Central Limit Theorem, and hence the statistical tests we are using, to apply.\n",
    "    </ul>\n",
    "<li>  Is the true population mean really 98.6 degrees F?\n",
    "    <ul>\n",
    "    <li> First, try a bootstrap hypothesis test.\n",
    "    <li> Now, let's try frequentist statistical testing. Would you use a one-sample or two-sample test? Why?\n",
    "    <li> In this situation, is it appropriate to use the $t$ or $z$ statistic? \n",
    "    <li> Now try using the other test. How is the result be different? Why?\n",
    "    </ul>\n",
    "<li>  Draw a small sample of size 10 from the data and repeat both frequentist tests. \n",
    "    <ul>\n",
    "    <li> Which one is the correct one to use? \n",
    "    <li> What do you notice? What does this tell you about the difference in application of the $t$ and $z$ statistic?\n",
    "    </ul>\n",
    "<li>  At what temperature should we consider someone's temperature to be \"abnormal\"?\n",
    "    <ul>\n",
    "    <li> As in the previous example, try calculating everything using the boostrap approach, as well as the frequentist approach.\n",
    "    <li> Start by computing the margin of error and confidence interval. When calculating the confidence interval, keep in mind that you should use the appropriate formula for one draw, and not N draws.\n",
    "    </ul>\n",
    "<li>  Is there a significant difference between males and females in normal temperature?\n",
    "    <ul>\n",
    "    <li> What testing approach did you use and why?\n",
    "    <li> Write a story with your conclusion in the context of the original problem.\n",
    "    </ul>\n",
    "</ol>\n",
    "\n",
    "You can include written notes in notebook cells using Markdown: \n",
    "   - In the control panel at the top, choose Cell > Cell Type > Markdown\n",
    "   - Markdown syntax: http://nestacms.com/docs/creating-content/markdown-cheat-sheet\n",
    "\n",
    "#### Resources\n",
    "\n",
    "+ Information and data sources: http://www.amstat.org/publications/jse/datasets/normtemp.txt, http://www.amstat.org/publications/jse/jse_data_archive.htm\n",
    "+ Markdown syntax: http://nestacms.com/docs/creating-content/markdown-cheat-sheet\n",
    "\n",
    "****"
   ]
  },
  {
   "cell_type": "code",
   "execution_count": 1,
   "metadata": {},
   "outputs": [],
   "source": [
    "import pandas as pd\n",
    "import numpy as np\n",
    "\n",
    "df = pd.read_csv(r\"C:\\Users\\mm183\\Documents\\Springboard\\Modules\\EDA_Projects\\EDA_human_temperature\\data\\human_body_temperature.csv\")"
   ]
  },
  {
   "cell_type": "code",
   "execution_count": 2,
   "metadata": {},
   "outputs": [
    {
     "name": "stdout",
     "output_type": "stream",
     "text": [
      "(130, 3)\n",
      "temperature    float64\n",
      "gender          object\n",
      "heart_rate     float64\n",
      "dtype: object\n",
      "   temperature gender  heart_rate\n",
      "0         99.3      F        68.0\n",
      "1         98.4      F        81.0\n",
      "2         97.8      M        73.0\n",
      "3         99.2      F        66.0\n",
      "4         98.0      F        73.0\n",
      "     temperature gender  heart_rate\n",
      "125         96.3      M        70.0\n",
      "126         97.7      M        77.0\n",
      "127         98.2      F        73.0\n",
      "128         97.9      M        72.0\n",
      "129         98.7      F        59.0\n"
     ]
    }
   ],
   "source": [
    "# Your work here.\n",
    "print(df.shape)\n",
    "print(df.dtypes)\n",
    "print(df.head())\n",
    "print(df.tail())"
   ]
  },
  {
   "cell_type": "markdown",
   "metadata": {},
   "source": [
    "### 1. Is the distribution of body temperatures normal? "
   ]
  },
  {
   "cell_type": "code",
   "execution_count": 3,
   "metadata": {},
   "outputs": [
    {
     "data": {
      "text/plain": [
       "<matplotlib.figure.Figure at 0x1efe8cf2da0>"
      ]
     },
     "metadata": {},
     "output_type": "display_data"
    }
   ],
   "source": [
    "import matplotlib.pyplot as plt\n",
    "import seaborn as sns\n",
    "sns.set()\n",
    "\n",
    "#calculate mean and standard deviation of temperatures\n",
    "mean = df.temperature.mean()\n",
    "std = df.temperature.std()\n",
    "\n",
    "#create control set of random samples\n",
    "samples = np.random.normal(mean, std, size=1000)\n",
    "\n",
    "#create formula for gathering values for cdf\n",
    "def ecdf(data):\n",
    "    n = len(data)\n",
    "    x = np.sort(data)\n",
    "    y = np.arange(1, n+1) / n\n",
    "    return x, y\n",
    "\n",
    "#gather values for cdf of control set\n",
    "x_theor, y_theor = ecdf(samples)\n",
    "\n",
    "#gather values for empirical cdf\n",
    "x, y = ecdf(df.temperature)\n",
    "\n",
    "#plot cdf and ecdf\n",
    "_ = plt.plot(x_theor, y_theor)\n",
    "_ = plt.plot(x, y, marker=',', linestyle='none')\n",
    "_ = plt.xlabel('Temperature ($^\\circ$Fahrenheit)')\n",
    "_ = plt.ylabel('CDF')\n",
    "plt.show()"
   ]
  },
  {
   "cell_type": "markdown",
   "metadata": {},
   "source": [
    "### 2. Is the sample size large? Are the observations independent? "
   ]
  },
  {
   "cell_type": "code",
   "execution_count": 4,
   "metadata": {},
   "outputs": [
    {
     "name": "stdout",
     "output_type": "stream",
     "text": [
      "Sample Size:  130\n"
     ]
    },
    {
     "data": {
      "image/png": "[encoded data removed]",
      "text/plain": [
       "<matplotlib.figure.Figure at 0x1efe8cf2c18>"
      ]
     },
     "metadata": {},
     "output_type": "display_data"
    },
    {
     "data": {
      "image/png": "[encoded data removed]",
      "text/plain": [
       "<matplotlib.figure.Figure at 0x1efe9f87278>"
      ]
     },
     "metadata": {},
     "output_type": "display_data"
    },
    {
     "data": {
      "image/png": "[encoded data removed]",
      "text/plain": [
       "<matplotlib.figure.Figure at 0x1efe9e94400>"
      ]
     },
     "metadata": {},
     "output_type": "display_data"
    }
   ],
   "source": [
    "#check sample size\n",
    "print('Sample Size: ', len(df))\n",
    "\n",
    "#plot pdf for each variable to check for independece\n",
    "_ = plt.hist(df.temperature, bins=100, normed=True, histtype='step')\n",
    "_ = plt.xlabel('temperature')\n",
    "_ = plt.ylabel('PDF')\n",
    "plt.show()\n",
    "\n",
    "_ = plt.hist(df.gender, bins=100, normed=True, histtype='step')\n",
    "_ = plt.xlabel('gender')\n",
    "_ = plt.ylabel('PDF')\n",
    "plt.show()\n",
    "\n",
    "_ = plt.hist(df.heart_rate, bins=100, normed=True, histtype='step')\n",
    "_ = plt.xlabel('heart rate')\n",
    "_ = plt.ylabel('PDF')\n",
    "plt.show()"
   ]
  },
  {
   "cell_type": "markdown",
   "metadata": {},
   "source": [
    "### 3. Is the true population mean really 98.6 degrees F? \n",
    "- First, try a bootstrap hypothesis test.\n",
    "- Now, let's try frequentist statistical testing. Would you use a one-sample or two-sample test? Why?\n",
    "-  In this situation, is it appropriate to use the t or z statistic?\n",
    "-  Now try using the other test. How is the result be different? Why? "
   ]
  },
  {
   "cell_type": "markdown",
   "metadata": {},
   "source": [
    "##### Bootstrap Approach"
   ]
  },
  {
   "cell_type": "code",
   "execution_count": 18,
   "metadata": {},
   "outputs": [
    {
     "name": "stdout",
     "output_type": "stream",
     "text": [
      "p =  0.5014\n"
     ]
    }
   ],
   "source": [
    "#make an array of translated temperatures\n",
    "translated_temp = df.temperature - np.mean(df.temperature) + 98.6\n",
    "\n",
    "#create function to draw bootstrap replicates\n",
    "def draw_bs_reps(data, size):\n",
    "    bs_replicates = np.empty(size)\n",
    "    for i in range(size):\n",
    "        bs_sample = np.random.choice(data, size=len(data))\n",
    "        bs_replicates[i] = np.mean(bs_sample)\n",
    "    return bs_replicates\n",
    "\n",
    "#take bootstrap replicates\n",
    "bs_replicates_temp = draw_bs_reps(df.temperature, 10000)\n",
    "\n",
    "#compute fraction of replicates that are less than 98.6 degrees Fahrenheit \n",
    "p = np.sum(bs_replicates_temp <= np.mean(df.temperature)) / 10000\n",
    "\n",
    "#show the p-value\n",
    "print('p = ', p)"
   ]
  },
  {
   "cell_type": "markdown",
   "metadata": {},
   "source": [
    "##### Frequentist Approach"
   ]
  },
  {
   "cell_type": "markdown",
   "metadata": {},
   "source": [
    "I would use a one-sample test because I have one sample mean to compare to a null hypothesis value, and a z-test because the sample size is large (n>30)"
   ]
  },
  {
   "cell_type": "code",
   "execution_count": 6,
   "metadata": {},
   "outputs": [
    {
     "name": "stdout",
     "output_type": "stream",
     "text": [
      "tstat = -5.455 pvalue = 0.00000002\n"
     ]
    }
   ],
   "source": [
    "import statsmodels.stats.weightstats as wstats\n",
    "\n",
    "#one-sample z-test\n",
    "print('tstat = %6.3f pvalue = %6.8f' % wstats.ztest(df.temperature, value=98.6, alternative='smaller'))"
   ]
  },
  {
   "cell_type": "code",
   "execution_count": 7,
   "metadata": {},
   "outputs": [
    {
     "name": "stdout",
     "output_type": "stream",
     "text": [
      "tstat = -5.455 pvalue = 0.00000024\n"
     ]
    }
   ],
   "source": [
    "from scipy import stats\n",
    "\n",
    "#one-sample t-test\n",
    "print('tstat = %6.3f pvalue = %6.8f' % stats.ttest_1samp(df.temperature, 98.6))"
   ]
  },
  {
   "cell_type": "markdown",
   "metadata": {},
   "source": [
    "The results are similar because in this case I am comparing the mean of a single population with a known value and the standard deviation is known, so a t-test doesn't yield additional utility"
   ]
  },
  {
   "cell_type": "markdown",
   "metadata": {},
   "source": [
    "### 4. Draw a small sample of size 10 from the data and repeat both frequentist tests.\n",
    "- Which one is the correct one to use?\n",
    "- What do you notice? What does this tell you about the difference in application of the tt and zz statistic? "
   ]
  },
  {
   "cell_type": "code",
   "execution_count": 16,
   "metadata": {},
   "outputs": [
    {
     "name": "stdout",
     "output_type": "stream",
     "text": [
      "z-test\n",
      "tstat =  0.055 pvalue = 0.52202790\n",
      "t-test\n",
      "tstat =  0.055 pvalue = 0.95715114\n"
     ]
    }
   ],
   "source": [
    "#draw sample of size 10 from data\n",
    "sample = np.random.choice(df.temperature, size=10)\n",
    "\n",
    "#one-sample z-test\n",
    "print('z-test')\n",
    "print('tstat = %6.3f pvalue = %6.8f' % wstats.ztest(sample, value=98.6, alternative='smaller'))\n",
    "\n",
    "#one-sample t-test\n",
    "print('t-test')\n",
    "print('tstat = %6.3f pvalue = %6.8f' % stats.ttest_1samp(sample, 98.6))"
   ]
  },
  {
   "cell_type": "markdown",
   "metadata": {},
   "source": [
    "The z-test is the correct one to use because the standard deviation is known and it yields a smaller p-value, showing that the z-statistic can be more useful in such situations, versus the t-statistic which might be more useful when comparing two means or if the standard deviation is unknown"
   ]
  },
  {
   "cell_type": "markdown",
   "metadata": {},
   "source": [
    "### 5. At what temperature should we consider someone's temperature to be \"abnormal\"?"
   ]
  },
  {
   "cell_type": "markdown",
   "metadata": {},
   "source": [
    "##### Bootstrap Approach"
   ]
  },
  {
   "cell_type": "code",
   "execution_count": 17,
   "metadata": {
    "scrolled": true
   },
   "outputs": [
    {
     "name": "stdout",
     "output_type": "stream",
     "text": [
      "95% confidence interval =  [98.12307692 98.37461538] degrees Fahrenheit\n"
     ]
    },
    {
     "data": {
      "image/png": "[encoded data removed]",
      "text/plain": [
       "<matplotlib.figure.Figure at 0x1efeb8d4588>"
      ]
     },
     "metadata": {},
     "output_type": "display_data"
    }
   ],
   "source": [
    "#draw bootstrap replicates\n",
    "bs_replicates = draw_bs_reps(df.temperature, 10000)\n",
    "\n",
    "#confidence interval for a single draw\n",
    "print('95% confidence interval = ', np.percentile(bs_replicates, [2.5, 97.5]), 'degrees Fahrenheit')\n",
    "\n",
    "#plot the histogram for the replicates\n",
    "_ = plt.hist(bs_replicates, bins=50, normed=True)\n",
    "_ = plt.xlabel('Temperature ($^\\circ$Fahrenheit)')\n",
    "_ = plt.ylabel('PDF')\n",
    "plt.show()"
   ]
  },
  {
   "cell_type": "markdown",
   "metadata": {},
   "source": [
    "##### Frequentist Approach"
   ]
  },
  {
   "cell_type": "code",
   "execution_count": 10,
   "metadata": {},
   "outputs": [
    {
     "name": "stdout",
     "output_type": "stream",
     "text": [
      "margin of error:  1.0\n",
      "confidence interval: (96.81221818540311, 99.68624335305844)\n"
     ]
    }
   ],
   "source": [
    "#margin of error\n",
    "print('margin of error: ', np.mean(df.temperature != mean))\n",
    "\n",
    "#confidence interval for a single draw\n",
    "print('confidence interval:', stats.norm.interval(0.95, loc=mean, scale=std))"
   ]
  },
  {
   "cell_type": "markdown",
   "metadata": {},
   "source": [
    "We should consider someone's temperature to be \"abnormal\" if it is below 96.8 degrees Fahrenheit or above 99.7 degrees Fahrenheit"
   ]
  },
  {
   "cell_type": "markdown",
   "metadata": {},
   "source": [
    "### 6. Is there a significant difference between males and females in normal temperature?\n",
    "- What testing approach did you use and why?\n",
    "- Write a story with your conclusion in the context of the original problem."
   ]
  },
  {
   "cell_type": "markdown",
   "metadata": {},
   "source": [
    "##### Frequentist Approach"
   ]
  },
  {
   "cell_type": "code",
   "execution_count": 32,
   "metadata": {},
   "outputs": [
    {
     "name": "stdout",
     "output_type": "stream",
     "text": [
      "t-test\n",
      "tstat =  2.285 pvalue = 0.02393188\n",
      "Females 95% confidence interval =  [96.76 99.94] degrees Fahrenheit\n",
      "Males 95% confidence interval =  [96.82 99.34] degrees Fahrenheit\n"
     ]
    }
   ],
   "source": [
    "#generate gender specific arrays\n",
    "females_temp = df[df['gender'] == 'F'].temperature.values\n",
    "males_temp = df[df['gender'] == 'M'].temperature.values\n",
    "\n",
    "#conduct two-sample t-test for null hypothesis that both gender's have identical average values\n",
    "print('t-test')\n",
    "print('tstat = %6.3f pvalue = %6.8f' % stats.ttest_ind(females_temp, males_temp))\n",
    "\n",
    "#print 95 percent confidence interval for each gender's draw\n",
    "print('Females 95% confidence interval = ', np.percentile(females_temp, [2.5, 97.5]), 'degrees Fahrenheit')\n",
    "print('Males 95% confidence interval = ', np.percentile(males_temp, [2.5, 97.5]), 'degrees Fahrenheit')"
   ]
  },
  {
   "cell_type": "markdown",
   "metadata": {},
   "source": [
    "I utilized the frequentist approach because it is simpler to enact and the populations being tested had equal variances, so an independent values t-test would be appropriate. The t-test for the mean temperatures of each gender showed that there was not a significant difference between them, which furthered the findings of earlier tests addressing the distribution of human temperature, adding results showing that the temperature of males and females shared significantly similar means."
   ]
  }
 ],
 "metadata": {
  "kernelspec": {
   "display_name": "Python 3",
   "language": "python",
   "name": "python3"
  },
  "language_info": {
   "codemirror_mode": {
    "name": "ipython",
    "version": 3
   },
   "file_extension": ".py",
   "mimetype": "text/x-python",
   "name": "python",
   "nbconvert_exporter": "python",
   "pygments_lexer": "ipython3",
   "version": "3.6.4"
  }
 },
 "nbformat": 4,
 "nbformat_minor": 1
}
