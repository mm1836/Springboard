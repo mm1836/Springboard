{
 "cells": [
  {
   "cell_type": "markdown",
   "metadata": {},
   "source": [
    "# Examining Racial Discrimination in the US Job Market\n",
    "\n",
    "### Background\n",
    "Racial discrimination continues to be pervasive in cultures throughout the world. Researchers examined the level of racial discrimination in the United States labor market by randomly assigning identical résumés to black-sounding or white-sounding names and observing the impact on requests for interviews from employers.\n",
    "\n",
    "### Data\n",
    "In the dataset provided, each row represents a resume. The 'race' column has two values, 'b' and 'w', indicating black-sounding and white-sounding. The column 'call' has two values, 1 and 0, indicating whether the resume received a call from employers or not.\n",
    "\n",
    "Note that the 'b' and 'w' values in race are assigned randomly to the resumes when presented to the employer."
   ]
  },
  {
   "cell_type": "markdown",
   "metadata": {},
   "source": [
    "<div class=\"span5 alert alert-info\">\n",
    "### Exercises\n",
    "You will perform a statistical analysis to establish whether race has a significant impact on the rate of callbacks for resumes.\n",
    "\n",
    "Answer the following questions **in this notebook below and submit to your Github account**. \n",
    "\n",
    "   1. What test is appropriate for this problem? Does CLT apply?\n",
    "   2. What are the null and alternate hypotheses?\n",
    "   3. Compute margin of error, confidence interval, and p-value. Try using both the bootstrapping and the frequentist statistical approaches.\n",
    "   4. Write a story describing the statistical significance in the context or the original problem.\n",
    "   5. Does your analysis mean that race/name is the most important factor in callback success? Why or why not? If not, how would you amend your analysis?\n",
    "\n",
    "You can include written notes in notebook cells using Markdown: \n",
    "   - In the control panel at the top, choose Cell > Cell Type > Markdown\n",
    "   - Markdown syntax: http://nestacms.com/docs/creating-content/markdown-cheat-sheet\n",
    "\n",
    "\n",
    "#### Resources\n",
    "+ Experiment information and data source: http://www.povertyactionlab.org/evaluation/discrimination-job-market-united-states\n",
    "+ Scipy statistical methods: http://docs.scipy.org/doc/scipy/reference/stats.html \n",
    "+ Markdown syntax: http://nestacms.com/docs/creating-content/markdown-cheat-sheet\n",
    "+ Formulas for the Bernoulli distribution: https://en.wikipedia.org/wiki/Bernoulli_distribution\n",
    "</div>\n",
    "****"
   ]
  },
  {
   "cell_type": "code",
   "execution_count": 1,
   "metadata": {},
   "outputs": [],
   "source": [
    "import pandas as pd\n",
    "import numpy as np\n",
    "from scipy import stats"
   ]
  },
  {
   "cell_type": "code",
   "execution_count": 2,
   "metadata": {},
   "outputs": [],
   "source": [
    "data = pd.io.stata.read_stata('data/us_job_market_discrimination.dta')"
   ]
  },
  {
   "cell_type": "code",
   "execution_count": 3,
   "metadata": {},
   "outputs": [],
   "source": [
    "w = data[data.race=='w'].call\n",
    "b = data[data.race=='b'].call"
   ]
  },
  {
   "cell_type": "code",
   "execution_count": 4,
   "metadata": {
    "scrolled": true
   },
   "outputs": [
    {
     "name": "stdout",
     "output_type": "stream",
     "text": [
      "# of callbacks for black-sounding names:  157.0\n",
      "# of callbacks for white-sounding names:  235.0\n",
      "# of callbacks for all applicants:  392.0\n"
     ]
    }
   ],
   "source": [
    "# number of callbacks for black-sounding names\n",
    "b_calls = sum(b)\n",
    "print('# of callbacks for black-sounding names: ', b_calls)\n",
    "\n",
    "#number of callbacks for white-sounding names\n",
    "w_calls = sum(w)\n",
    "print('# of callbacks for white-sounding names: ', w_calls)\n",
    "\n",
    "#percent of callbacks for all applicants\n",
    "call_total = sum(data.call)\n",
    "print('# of callbacks for all applicants: ', call_total)"
   ]
  },
  {
   "cell_type": "code",
   "execution_count": 5,
   "metadata": {},
   "outputs": [
    {
     "name": "stdout",
     "output_type": "stream",
     "text": [
      "(4870, 65)\n",
      "id                     object\n",
      "ad                     object\n",
      "education                int8\n",
      "ofjobs                   int8\n",
      "yearsexp                 int8\n",
      "honors                   int8\n",
      "volunteer                int8\n",
      "military                 int8\n",
      "empholes                 int8\n",
      "occupspecific           int16\n",
      "occupbroad               int8\n",
      "workinschool             int8\n",
      "email                    int8\n",
      "computerskills           int8\n",
      "specialskills            int8\n",
      "firstname              object\n",
      "sex                    object\n",
      "race                   object\n",
      "h                     float32\n",
      "l                     float32\n",
      "call                  float32\n",
      "city                   object\n",
      "kind                   object\n",
      "adid                  float32\n",
      "fracblack             float32\n",
      "fracwhite             float32\n",
      "lmedhhinc             float32\n",
      "fracdropout           float32\n",
      "fraccolp              float32\n",
      "linc                  float32\n",
      "                       ...   \n",
      "parent_emp            float32\n",
      "branch_sales          float32\n",
      "branch_emp            float32\n",
      "fed                   float32\n",
      "fracblack_empzip      float32\n",
      "fracwhite_empzip      float32\n",
      "lmedhhinc_empzip      float32\n",
      "fracdropout_empzip    float32\n",
      "fraccolp_empzip       float32\n",
      "linc_empzip           float32\n",
      "manager               float32\n",
      "supervisor            float32\n",
      "secretary             float32\n",
      "offsupport            float32\n",
      "salesrep              float32\n",
      "retailsales           float32\n",
      "req                   float32\n",
      "expreq                float32\n",
      "comreq                float32\n",
      "educreq               float32\n",
      "compreq               float32\n",
      "orgreq                float32\n",
      "manuf                 float32\n",
      "transcom              float32\n",
      "bankreal              float32\n",
      "trade                 float32\n",
      "busservice            float32\n",
      "othservice            float32\n",
      "missind               float32\n",
      "ownership              object\n",
      "Length: 65, dtype: object\n",
      "  id ad  education  ofjobs  yearsexp  honors  volunteer  military  empholes  \\\n",
      "0  b  1          4       2         6       0          0         0         1   \n",
      "1  b  1          3       3         6       0          1         1         0   \n",
      "2  b  1          4       1         6       0          0         0         0   \n",
      "3  b  1          3       4         6       0          1         0         1   \n",
      "4  b  1          3       3        22       0          0         0         0   \n",
      "\n",
      "   occupspecific    ...      compreq  orgreq  manuf  transcom  bankreal trade  \\\n",
      "0             17    ...          1.0     0.0    1.0       0.0       0.0   0.0   \n",
      "1            316    ...          1.0     0.0    1.0       0.0       0.0   0.0   \n",
      "2             19    ...          1.0     0.0    1.0       0.0       0.0   0.0   \n",
      "3            313    ...          1.0     0.0    1.0       0.0       0.0   0.0   \n",
      "4            313    ...          1.0     1.0    0.0       0.0       0.0   0.0   \n",
      "\n",
      "  busservice othservice  missind  ownership  \n",
      "0        0.0        0.0      0.0             \n",
      "1        0.0        0.0      0.0             \n",
      "2        0.0        0.0      0.0             \n",
      "3        0.0        0.0      0.0             \n",
      "4        0.0        1.0      0.0  Nonprofit  \n",
      "\n",
      "[5 rows x 65 columns]\n",
      "     id   ad  education  ofjobs  yearsexp  honors  volunteer  military  \\\n",
      "4865  b   99          3       2         1       0          0         0   \n",
      "4866  a  99b          4       4         6       0          0         0   \n",
      "4867  a  99b          4       6         8       0          1         0   \n",
      "4868  a  99b          4       4         2       0          1         1   \n",
      "4869  a  99b          4       3         7       0          0         0   \n",
      "\n",
      "      empholes  occupspecific    ...      compreq  orgreq  manuf  transcom  \\\n",
      "4865         1            313    ...          1.0     0.0    0.0       0.0   \n",
      "4866         0            285    ...          0.0     0.0    0.0       0.0   \n",
      "4867         0             21    ...          0.0     0.0    0.0       0.0   \n",
      "4868         0            267    ...          0.0     0.0    0.0       0.0   \n",
      "4869         1            274    ...          0.0     0.0    0.0       0.0   \n",
      "\n",
      "      bankreal trade busservice othservice  missind  ownership  \n",
      "4865       1.0   0.0        0.0        0.0      0.0    Private  \n",
      "4866       0.0   0.0        0.0        0.0      1.0             \n",
      "4867       0.0   0.0        0.0        0.0      1.0             \n",
      "4868       0.0   0.0        0.0        0.0      1.0             \n",
      "4869       0.0   0.0        0.0        0.0      1.0             \n",
      "\n",
      "[5 rows x 65 columns]\n"
     ]
    }
   ],
   "source": [
    "print(data.shape)\n",
    "print(data.dtypes)\n",
    "print(data.head())\n",
    "print(data.tail())"
   ]
  },
  {
   "cell_type": "markdown",
   "metadata": {
    "collapsed": true
   },
   "source": [
    "<div class=\"span5 alert alert-success\">\n",
    "<p>Your answers to Q1 here</p>\n",
    "<p>1. What test is appropriate for this problem? Does CLT apply?</p>\n",
    "</div>"
   ]
  },
  {
   "cell_type": "markdown",
   "metadata": {},
   "source": [
    "The appropriate test for this problem would be a bootstrap permutation test using difference of means,\n",
    "and CLT does apply because the sample size is large and the observations are independent\n",
    "(\"Note that the 'b' and 'w' values in race are assigned randomly to the resumes when presented to the employer\")"
   ]
  },
  {
   "cell_type": "markdown",
   "metadata": {},
   "source": [
    "<div class=\"span5 alert alert-success\">\n",
    "<p>Your answers to Q2 here</p>\n",
    "<p>2. What are the null and alternate hypotheses?</p>\n",
    "</div>"
   ]
  },
  {
   "cell_type": "markdown",
   "metadata": {},
   "source": [
    "Ho : There is no difference between the rate of callbacks for both black and white sounding names\n",
    "\n",
    "Ha : There is a difference between the rate of callbacks for black-sounding and white-sounding names"
   ]
  },
  {
   "cell_type": "markdown",
   "metadata": {},
   "source": [
    "<div class=\"span5 alert alert-success\">\n",
    "<p> Your answers to Q3 </p>\n",
    "<p> 3. Compute margin of error, confidence interval, and p-value. Try using both the bootstrapping and the frequentist statistical approaches. </p>\n",
    "</div>"
   ]
  },
  {
   "cell_type": "markdown",
   "metadata": {},
   "source": [
    "##### Frequentist Approach"
   ]
  },
  {
   "cell_type": "code",
   "execution_count": 6,
   "metadata": {},
   "outputs": [
    {
     "name": "stdout",
     "output_type": "stream",
     "text": [
      "Margin of Error:  0.007784906919813793\n",
      "95% Confidence Interval:  [0.016852286361423684, 0.04721342334869747]\n",
      "T-Test: tstat =  4.115, P-value = 0.00003941\n"
     ]
    }
   ],
   "source": [
    "#calculate the standard error of mean of two samples\n",
    "sem = np.sqrt(((b.std() ** 2) / len(b)) + ((w.std() ** 2) / len(w)))\n",
    "dom = np.abs(np.mean(b) - np.mean(w))\n",
    "\n",
    "#show margin of error \n",
    "print('Margin of Error: ', sem)\n",
    "\n",
    "#create formula to calculate confidence interval\n",
    "def conf_int(data_1, data_2, error, per):\n",
    "    c_int = [dom - (1 + per)*sem, dom + (1 + per) * sem]\n",
    "    return c_int\n",
    "\n",
    "#show confidence interval\n",
    "print('95% Confidence Interval: ', conf_int(b, w, sem, 0.95))\n",
    "\n",
    "#perform independent samples t-test for p-value\n",
    "print('T-Test: tstat = %6.3f, P-value = %6.8f' % stats.ttest_ind(w, b))"
   ]
  },
  {
   "cell_type": "markdown",
   "metadata": {},
   "source": [
    "##### Bootstrap Approach"
   ]
  },
  {
   "cell_type": "code",
   "execution_count": 7,
   "metadata": {},
   "outputs": [
    {
     "name": "stdout",
     "output_type": "stream",
     "text": [
      "P-value:  0.0001\n"
     ]
    }
   ],
   "source": [
    "#create function for a bootstrap permutation test between the two samples\n",
    "def dom_perm_test(data_1, data_2, dom, size):\n",
    "    perm_replicates = np.empty(size)\n",
    "    for i in range(size):\n",
    "        combined = np.random.permutation(np.concatenate((data_1, data_2)))\n",
    "        perm_sample_1 = combined[:len(data_1)]\n",
    "        perm_sample_2 = combined[len(data_2):]\n",
    "        perm_replicates[i] = np.abs(np.mean(perm_sample_1) - np.mean(perm_sample_2))\n",
    "    p = np.sum(perm_replicates >= dom) / len(perm_replicates)\n",
    "    return p\n",
    "\n",
    "#show p-value\n",
    "print('P-value: ',dom_perm_test(b, w, dom, 10000))"
   ]
  },
  {
   "cell_type": "markdown",
   "metadata": {},
   "source": [
    "<div class=\"span5 alert alert-success\">\n",
    "<p> Your answers to Q4 here </p>\n",
    "<p>4. Write a story describing the statistical significance in the context or the original problem.</p>\n",
    "</div>"
   ]
  },
  {
   "cell_type": "markdown",
   "metadata": {
    "collapsed": true
   },
   "source": [
    "Statistical analysis through both a bootstrap approach and frequentist approach resulted in P-values well below the threshold of 0.05. Leading us to reject the null hypothesis that there is no difference between the rate of callbacks for both black and white sounding names, and accept the alternative hypothesis that there is a difference between the rate at which white sounding names and black sounding names receive callbacks on job applications. "
   ]
  },
  {
   "cell_type": "markdown",
   "metadata": {},
   "source": [
    "<div class=\"span5 alert alert-success\">\n",
    "<p> Your answers to Q5 here </p>\n",
    "<p>5. Does your analysis mean that race/name is the most important factor in callback success? Why or why not? If not, how would you amend your analysis?</p>\n",
    "</div>"
   ]
  },
  {
   "cell_type": "markdown",
   "metadata": {},
   "source": [
    "Although the analysis showed race had a significant impact on the rate of callbacks for applicants, it cannot be determined at this time that it was the most imporant factor in callback success, as none of the other attributes that candidates displayed were subjected to similar procedures. I would ammend the analysis to test the significance of other features within the dataset and their relationship to callback success."
   ]
  }
 ],
 "metadata": {
  "kernelspec": {
   "display_name": "Python 3",
   "language": "python",
   "name": "python3"
  },
  "language_info": {
   "codemirror_mode": {
    "name": "ipython",
    "version": 3
   },
   "file_extension": ".py",
   "mimetype": "text/x-python",
   "name": "python",
   "nbconvert_exporter": "python",
   "pygments_lexer": "ipython3",
   "version": "3.6.4"
  }
 },
 "nbformat": 4,
 "nbformat_minor": 1
}
